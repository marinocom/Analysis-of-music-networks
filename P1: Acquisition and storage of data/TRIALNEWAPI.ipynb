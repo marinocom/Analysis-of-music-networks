{
 "cells": [
  {
   "cell_type": "code",
   "execution_count": 12,
   "metadata": {},
   "outputs": [],
   "source": [
    "import networkx as nx\n",
    "import pandas as pd\n",
    "import spotipy\n",
    "from spotipy . oauth2 import SpotifyClientCredentials\n",
    "\n",
    "\n",
    "# Marino Oliveros Blanco NIU:1668563\n",
    "# Pere Mayol Carbonell NIU:1669503\n",
    "\n",
    "\n",
    "# ------- AUXILIARY FUNCTIONS ------- #\n",
    "def degree_statistics(graph):\n",
    "    in_degrees = [d for n, d in graph.in_degree()]\n",
    "    out_degrees = [d for n, d in graph.out_degree()]\n",
    "    \n",
    "    stats = {\n",
    "        \"in_degree\": {\n",
    "            \"min\": min(in_degrees),\n",
    "            \"max\": max(in_degrees),\n",
    "            \"median\": sorted(in_degrees)[len(in_degrees)//2]\n",
    "        },\n",
    "        \"out_degree\": {\n",
    "            \"min\": min(out_degrees),\n",
    "            \"max\": max(out_degrees),\n",
    "            \"median\": sorted(out_degrees)[len(out_degrees)//2]\n",
    "        },\n",
    "        \"number_of_nodes\": graph.number_of_nodes(),\n",
    "        \"number_of_edges\": graph.number_of_edges()\n",
    "    }\n",
    "    return stats\n",
    "# --------------- END OF AUXILIARY FUNCTIONS ------------------ #\n",
    "\n"
   ]
  },
  {
   "cell_type": "code",
   "execution_count": 13,
   "metadata": {},
   "outputs": [],
   "source": [
    "\n",
    "def search_artist(sp: spotipy.client.Spotify, artist_name: str) -> str:\n",
    "    \"\"\"\n",
    "    Search for an artist in Spotify.\n",
    "\n",
    "    :param sp: spotipy client object\n",
    "    :param artist_name: name to search for.\n",
    "    :return: spotify artist id.\n",
    "    \"\"\"\n",
    "\n",
    "    id = sp.search(artist_name, type='artist', limit=5)['artists']['items'][0]['id'] # Get the first result\n",
    "\n",
    "    return id"
   ]
  },
  {
   "cell_type": "code",
   "execution_count": 14,
   "metadata": {},
   "outputs": [],
   "source": [
    "def crawler(sp: spotipy.client.Spotify, seed: str, max_nodes_to_crawl: int, strategy: str = \"BFS\", \n",
    "            out_filename: str = \"g.graphml\") -> nx.DiGraph:\n",
    "    \"\"\"\n",
    "    Crawl the Spotify artist graph, following related artists.\n",
    "\n",
    "    :param sp: spotipy client object\n",
    "    :param seed: starting artist id.\n",
    "    :param max_nodes_to_crawl: maximum number of nodes to crawl.\n",
    "    :param strategy: BFS or DFS.\n",
    "    :param out_filename: name of the graphml output file.\n",
    "    :return: networkx directed graph.\n",
    "    \"\"\"\n",
    "\n",
    "    G = nx.DiGraph()\n",
    "    visited = set()\n",
    "\n",
    "    if strategy == \"BFS\":\n",
    "        queue = [(seed, None)]  # BFS uses a queue\n",
    "    else:\n",
    "        stack = [(seed, None)]  # DFS uses a stack\n",
    "\n",
    "    while len(visited) < max_nodes_to_crawl:\n",
    "        if strategy == \"BFS\" and queue:\n",
    "            current_artist_id, parent_id = queue.pop(0)\n",
    "        elif strategy == \"DFS\" and stack:\n",
    "            current_artist_id, parent_id = stack.pop()\n",
    "        else:\n",
    "            break\n",
    "\n",
    "        if current_artist_id not in visited:\n",
    "            visited.add(current_artist_id)\n",
    "            try:\n",
    "                artist_info = sp.artist(current_artist_id)\n",
    "                G.add_node(current_artist_id, \n",
    "                           name=artist_info['name'],\n",
    "                           followers=artist_info['followers']['total'],\n",
    "                           popularity=artist_info['popularity'],\n",
    "                           genres=\";\".join(artist_info['genres']))  # Convert list to string\n",
    "                if parent_id:\n",
    "                    G.add_edge(parent_id, current_artist_id)\n",
    "\n",
    "                related_artists = sp.artist_related_artists(current_artist_id)['artists']\n",
    "                for related_artist in related_artists:\n",
    "                    if strategy == \"BFS\":\n",
    "                        queue.append((related_artist['id'], current_artist_id))\n",
    "                    else:\n",
    "                        stack.append((related_artist['id'], current_artist_id))\n",
    "            except Exception as e:\n",
    "                print(f\"Error processing artist {current_artist_id}: {e}\")\n",
    "                continue\n",
    "\n",
    "    nx.write_graphml(G, out_filename)\n",
    "    return G"
   ]
  },
  {
   "cell_type": "code",
   "execution_count": 15,
   "metadata": {},
   "outputs": [],
   "source": [
    "import time\n",
    "import pandas as pd\n",
    "\n",
    "def get_track_data(sp, graphs, output_file):\n",
    "    \"\"\"\n",
    "    Get track data for each visited artist in the graph.\n",
    "\n",
    "    :param sp: spotipy client object\n",
    "    :param graphs: a list of graphs with artists as nodes.\n",
    "    :param out_filename: name of the csv output file.\n",
    "    :return: pandas dataframe with track data.\n",
    "    \"\"\"\n",
    "    tracks = []\n",
    "    max_retries = 3\n",
    "\n",
    "    # Helper function to handle retries\n",
    "    def fetch_with_retries(func, *args, **kwargs):\n",
    "        retries = 0\n",
    "        while retries < max_retries:\n",
    "            try:\n",
    "                return func(*args, **kwargs)\n",
    "            except Exception as e:\n",
    "                retries += 1\n",
    "                print(f\"Retrying ({retries}/{max_retries}) due to error: {e}\")\n",
    "                time.sleep(2)  # Wait for 2 seconds before retrying\n",
    "        return None\n",
    "\n",
    "    # Get top tracks for each artist in the graph (10 in this case)\n",
    "    for graph in graphs:\n",
    "        for node in graph.nodes(data=True):\n",
    "            artist_id = node[0]\n",
    "            results = fetch_with_retries(sp.artist_top_tracks, artist_id)\n",
    "            if results is None:\n",
    "                continue\n",
    "\n",
    "            for track in results['tracks']:\n",
    "                # Fetch audio features\n",
    "                audio_features = fetch_with_retries(sp.audio_features, track['id'])\n",
    "                if not audio_features or not audio_features[0]:\n",
    "                    continue\n",
    "                audio_features = audio_features[0]\n",
    "\n",
    "                tracks.append({\n",
    "                    'artist_id': artist_id,\n",
    "                    'artist_name': track['artists'][0]['name'],\n",
    "                    'track_id': track['id'],\n",
    "                    'track_name': track['name'],\n",
    "                    'track_duration': track['duration_ms'],\n",
    "                    'track_popularity': track['popularity'],\n",
    "                    'danceability': audio_features['danceability'],\n",
    "                    'energy': audio_features['energy'],\n",
    "                    'loudness': audio_features['loudness'],\n",
    "                    'speechiness': audio_features['speechiness'],\n",
    "                    'acousticness': audio_features['acousticness'],\n",
    "                    'instrumentalness': audio_features['instrumentalness'],\n",
    "                    'liveness': audio_features['liveness'],\n",
    "                    'valence': audio_features['valence'],\n",
    "                    'tempo': audio_features['tempo'],\n",
    "                    'album_id': track['album']['id'],\n",
    "                    'album_name': track['album']['name'],\n",
    "                    'album_release_date': track['album']['release_date']\n",
    "                })\n",
    "\n",
    "    # Save the data to a csv file so we can correctly output the songs.csv\n",
    "    df = pd.DataFrame(tracks)\n",
    "    df.to_csv(output_file, index=False)\n",
    "\n",
    "    return df"
   ]
  },
  {
   "cell_type": "code",
   "execution_count": 16,
   "metadata": {},
   "outputs": [
    {
     "name": "stdout",
     "output_type": "stream",
     "text": [
      "Taylor Swift crawled BFS\n",
      "Taylor Swift crawled BFS\n",
      "Pastel Ghost crawled BFS\n",
      "gB degree stats: {'in_degree': {'min': 0, 'max': 1, 'median': 1}, 'out_degree': {'min': 0, 'max': 20, 'median': 0}, 'number_of_nodes': 100, 'number_of_edges': 99}\n",
      "gD degree stats: {'in_degree': {'min': 0, 'max': 1, 'median': 1}, 'out_degree': {'min': 0, 'max': 1, 'median': 1}, 'number_of_nodes': 100, 'number_of_edges': 99}\n",
      "hB degree stats: {'in_degree': {'min': 0, 'max': 1, 'median': 1}, 'out_degree': {'min': 0, 'max': 20, 'median': 0}, 'number_of_nodes': 100, 'number_of_edges': 99}\n"
     ]
    },
    {
     "name": "stderr",
     "output_type": "stream",
     "text": [
      "Max Retries reached\n"
     ]
    },
    {
     "name": "stdout",
     "output_type": "stream",
     "text": [
      "Retrying (1/3) due to error: http status: 429, code:-1 - /v1/audio-features/?ids=4Dvkj6JhhA12EX05fT7y2e:\n",
      " Max Retries, reason: too many 429 error responses\n"
     ]
    },
    {
     "name": "stderr",
     "output_type": "stream",
     "text": [
      "Max Retries reached\n"
     ]
    },
    {
     "name": "stdout",
     "output_type": "stream",
     "text": [
      "Retrying (2/3) due to error: http status: 429, code:-1 - /v1/audio-features/?ids=4Dvkj6JhhA12EX05fT7y2e:\n",
      " Max Retries, reason: too many 429 error responses\n"
     ]
    },
    {
     "name": "stderr",
     "output_type": "stream",
     "text": [
      "Max Retries reached\n"
     ]
    },
    {
     "name": "stdout",
     "output_type": "stream",
     "text": [
      "Retrying (3/3) due to error: http status: 429, code:-1 - /v1/audio-features/?ids=4Dvkj6JhhA12EX05fT7y2e:\n",
      " Max Retries, reason: too many 429 error responses\n"
     ]
    },
    {
     "name": "stderr",
     "output_type": "stream",
     "text": [
      "Max Retries reached\n"
     ]
    },
    {
     "name": "stdout",
     "output_type": "stream",
     "text": [
      "Retrying (1/3) due to error: http status: 429, code:-1 - /v1/audio-features/?ids=6UelLqGlWMcVH1E5c4H7lY:\n",
      " Max Retries, reason: too many 429 error responses\n"
     ]
    },
    {
     "name": "stderr",
     "output_type": "stream",
     "text": [
      "Max Retries reached\n"
     ]
    },
    {
     "name": "stdout",
     "output_type": "stream",
     "text": [
      "Retrying (2/3) due to error: http status: 429, code:-1 - /v1/audio-features/?ids=6UelLqGlWMcVH1E5c4H7lY:\n",
      " Max Retries, reason: too many 429 error responses\n"
     ]
    },
    {
     "name": "stderr",
     "output_type": "stream",
     "text": [
      "Max Retries reached\n"
     ]
    },
    {
     "name": "stdout",
     "output_type": "stream",
     "text": [
      "Retrying (3/3) due to error: http status: 429, code:-1 - /v1/audio-features/?ids=6UelLqGlWMcVH1E5c4H7lY:\n",
      " Max Retries, reason: too many 429 error responses\n"
     ]
    },
    {
     "name": "stderr",
     "output_type": "stream",
     "text": [
      "Max Retries reached\n"
     ]
    },
    {
     "name": "stdout",
     "output_type": "stream",
     "text": [
      "Retrying (1/3) due to error: http status: 429, code:-1 - /v1/audio-features/?ids=3jjujdWJ72nww5eGnfs2E7:\n",
      " Max Retries, reason: too many 429 error responses\n"
     ]
    },
    {
     "name": "stderr",
     "output_type": "stream",
     "text": [
      "Max Retries reached\n"
     ]
    },
    {
     "name": "stdout",
     "output_type": "stream",
     "text": [
      "Retrying (2/3) due to error: http status: 429, code:-1 - /v1/audio-features/?ids=3jjujdWJ72nww5eGnfs2E7:\n",
      " Max Retries, reason: too many 429 error responses\n"
     ]
    },
    {
     "name": "stderr",
     "output_type": "stream",
     "text": [
      "Max Retries reached\n"
     ]
    },
    {
     "name": "stdout",
     "output_type": "stream",
     "text": [
      "Retrying (3/3) due to error: http status: 429, code:-1 - /v1/audio-features/?ids=3jjujdWJ72nww5eGnfs2E7:\n",
      " Max Retries, reason: too many 429 error responses\n"
     ]
    },
    {
     "name": "stderr",
     "output_type": "stream",
     "text": [
      "Max Retries reached\n"
     ]
    },
    {
     "name": "stdout",
     "output_type": "stream",
     "text": [
      "Retrying (1/3) due to error: http status: 429, code:-1 - /v1/audio-features/?ids=1qEmFfgcLObUfQm0j1W2CK:\n",
      " Max Retries, reason: too many 429 error responses\n"
     ]
    },
    {
     "name": "stderr",
     "output_type": "stream",
     "text": [
      "Max Retries reached\n"
     ]
    },
    {
     "name": "stdout",
     "output_type": "stream",
     "text": [
      "Retrying (2/3) due to error: http status: 429, code:-1 - /v1/audio-features/?ids=1qEmFfgcLObUfQm0j1W2CK:\n",
      " Max Retries, reason: too many 429 error responses\n"
     ]
    },
    {
     "name": "stderr",
     "output_type": "stream",
     "text": [
      "Max Retries reached\n"
     ]
    },
    {
     "name": "stdout",
     "output_type": "stream",
     "text": [
      "Retrying (3/3) due to error: http status: 429, code:-1 - /v1/audio-features/?ids=1qEmFfgcLObUfQm0j1W2CK:\n",
      " Max Retries, reason: too many 429 error responses\n"
     ]
    },
    {
     "name": "stderr",
     "output_type": "stream",
     "text": [
      "Max Retries reached\n"
     ]
    },
    {
     "name": "stdout",
     "output_type": "stream",
     "text": [
      "Retrying (1/3) due to error: http status: 429, code:-1 - /v1/audio-features/?ids=5Ohxk2dO5COHF1krpoPigN:\n",
      " Max Retries, reason: too many 429 error responses\n"
     ]
    },
    {
     "name": "stderr",
     "output_type": "stream",
     "text": [
      "Max Retries reached\n"
     ]
    },
    {
     "name": "stdout",
     "output_type": "stream",
     "text": [
      "Retrying (2/3) due to error: http status: 429, code:-1 - /v1/audio-features/?ids=5Ohxk2dO5COHF1krpoPigN:\n",
      " Max Retries, reason: too many 429 error responses\n"
     ]
    },
    {
     "name": "stderr",
     "output_type": "stream",
     "text": [
      "Max Retries reached\n"
     ]
    },
    {
     "name": "stdout",
     "output_type": "stream",
     "text": [
      "Retrying (3/3) due to error: http status: 429, code:-1 - /v1/audio-features/?ids=5Ohxk2dO5COHF1krpoPigN:\n",
      " Max Retries, reason: too many 429 error responses\n"
     ]
    },
    {
     "name": "stderr",
     "output_type": "stream",
     "text": [
      "Max Retries reached\n"
     ]
    },
    {
     "name": "stdout",
     "output_type": "stream",
     "text": [
      "Retrying (1/3) due to error: http status: 429, code:-1 - /v1/audio-features/?ids=1ZMiCix7XSAbfAJlEZWMCp:\n",
      " Max Retries, reason: too many 429 error responses\n"
     ]
    },
    {
     "name": "stderr",
     "output_type": "stream",
     "text": [
      "Max Retries reached\n"
     ]
    },
    {
     "name": "stdout",
     "output_type": "stream",
     "text": [
      "Retrying (2/3) due to error: http status: 429, code:-1 - /v1/audio-features/?ids=1ZMiCix7XSAbfAJlEZWMCp:\n",
      " Max Retries, reason: too many 429 error responses\n"
     ]
    },
    {
     "name": "stderr",
     "output_type": "stream",
     "text": [
      "Max Retries reached\n"
     ]
    },
    {
     "name": "stdout",
     "output_type": "stream",
     "text": [
      "Retrying (3/3) due to error: http status: 429, code:-1 - /v1/audio-features/?ids=1ZMiCix7XSAbfAJlEZWMCp:\n",
      " Max Retries, reason: too many 429 error responses\n"
     ]
    },
    {
     "name": "stderr",
     "output_type": "stream",
     "text": [
      "Max Retries reached\n"
     ]
    },
    {
     "name": "stdout",
     "output_type": "stream",
     "text": [
      "Retrying (1/3) due to error: http status: 429, code:-1 - /v1/audio-features/?ids=6uvh0In7u1Xn4HgxOfAn8O:\n",
      " Max Retries, reason: too many 429 error responses\n"
     ]
    },
    {
     "name": "stderr",
     "output_type": "stream",
     "text": [
      "Max Retries reached\n"
     ]
    },
    {
     "name": "stdout",
     "output_type": "stream",
     "text": [
      "Retrying (2/3) due to error: http status: 429, code:-1 - /v1/audio-features/?ids=6uvh0In7u1Xn4HgxOfAn8O:\n",
      " Max Retries, reason: too many 429 error responses\n"
     ]
    },
    {
     "name": "stderr",
     "output_type": "stream",
     "text": [
      "Max Retries reached\n"
     ]
    },
    {
     "name": "stdout",
     "output_type": "stream",
     "text": [
      "Retrying (3/3) due to error: http status: 429, code:-1 - /v1/audio-features/?ids=6uvh0In7u1Xn4HgxOfAn8O:\n",
      " Max Retries, reason: too many 429 error responses\n"
     ]
    },
    {
     "name": "stderr",
     "output_type": "stream",
     "text": [
      "Max Retries reached\n"
     ]
    },
    {
     "name": "stdout",
     "output_type": "stream",
     "text": [
      "Retrying (1/3) due to error: http status: 429, code:-1 - /v1/audio-features/?ids=6VzcQuzTNTMFnJ6rBSaLH9:\n",
      " Max Retries, reason: too many 429 error responses\n"
     ]
    },
    {
     "name": "stderr",
     "output_type": "stream",
     "text": [
      "Max Retries reached\n"
     ]
    },
    {
     "name": "stdout",
     "output_type": "stream",
     "text": [
      "Retrying (2/3) due to error: http status: 429, code:-1 - /v1/audio-features/?ids=6VzcQuzTNTMFnJ6rBSaLH9:\n",
      " Max Retries, reason: too many 429 error responses\n"
     ]
    },
    {
     "name": "stderr",
     "output_type": "stream",
     "text": [
      "Max Retries reached\n"
     ]
    },
    {
     "name": "stdout",
     "output_type": "stream",
     "text": [
      "Retrying (3/3) due to error: http status: 429, code:-1 - /v1/audio-features/?ids=6VzcQuzTNTMFnJ6rBSaLH9:\n",
      " Max Retries, reason: too many 429 error responses\n"
     ]
    },
    {
     "name": "stderr",
     "output_type": "stream",
     "text": [
      "Max Retries reached\n"
     ]
    },
    {
     "name": "stdout",
     "output_type": "stream",
     "text": [
      "Retrying (1/3) due to error: http status: 429, code:-1 - /v1/audio-features/?ids=45S5WTQEGOB1VHr1Q4FuPl:\n",
      " Max Retries, reason: too many 429 error responses\n"
     ]
    },
    {
     "name": "stderr",
     "output_type": "stream",
     "text": [
      "Max Retries reached\n"
     ]
    },
    {
     "name": "stdout",
     "output_type": "stream",
     "text": [
      "Retrying (2/3) due to error: http status: 429, code:-1 - /v1/audio-features/?ids=45S5WTQEGOB1VHr1Q4FuPl:\n",
      " Max Retries, reason: too many 429 error responses\n"
     ]
    },
    {
     "name": "stderr",
     "output_type": "stream",
     "text": [
      "Max Retries reached\n"
     ]
    },
    {
     "name": "stdout",
     "output_type": "stream",
     "text": [
      "Retrying (3/3) due to error: http status: 429, code:-1 - /v1/audio-features/?ids=45S5WTQEGOB1VHr1Q4FuPl:\n",
      " Max Retries, reason: too many 429 error responses\n"
     ]
    },
    {
     "name": "stderr",
     "output_type": "stream",
     "text": [
      "Max Retries reached\n"
     ]
    },
    {
     "name": "stdout",
     "output_type": "stream",
     "text": [
      "Retrying (1/3) due to error: http status: 429, code:-1 - /v1/audio-features/?ids=0rzaRSujxA0bKyjJl6vHYq:\n",
      " Max Retries, reason: too many 429 error responses\n"
     ]
    },
    {
     "name": "stderr",
     "output_type": "stream",
     "text": [
      "Max Retries reached\n"
     ]
    },
    {
     "name": "stdout",
     "output_type": "stream",
     "text": [
      "Retrying (2/3) due to error: http status: 429, code:-1 - /v1/audio-features/?ids=0rzaRSujxA0bKyjJl6vHYq:\n",
      " Max Retries, reason: too many 429 error responses\n"
     ]
    },
    {
     "name": "stderr",
     "output_type": "stream",
     "text": [
      "Max Retries reached\n"
     ]
    },
    {
     "name": "stdout",
     "output_type": "stream",
     "text": [
      "Retrying (3/3) due to error: http status: 429, code:-1 - /v1/audio-features/?ids=0rzaRSujxA0bKyjJl6vHYq:\n",
      " Max Retries, reason: too many 429 error responses\n"
     ]
    },
    {
     "name": "stderr",
     "output_type": "stream",
     "text": [
      "Max Retries reached\n"
     ]
    },
    {
     "name": "stdout",
     "output_type": "stream",
     "text": [
      "Retrying (1/3) due to error: http status: 429, code:-1 - /v1/audio-features/?ids=6v3KW9xbzN5yKLt9YKDYA2:\n",
      " Max Retries, reason: too many 429 error responses\n"
     ]
    },
    {
     "name": "stderr",
     "output_type": "stream",
     "text": [
      "Max Retries reached\n"
     ]
    },
    {
     "name": "stdout",
     "output_type": "stream",
     "text": [
      "Retrying (2/3) due to error: http status: 429, code:-1 - /v1/audio-features/?ids=6v3KW9xbzN5yKLt9YKDYA2:\n",
      " Max Retries, reason: too many 429 error responses\n"
     ]
    },
    {
     "name": "stderr",
     "output_type": "stream",
     "text": [
      "Max Retries reached\n"
     ]
    },
    {
     "name": "stdout",
     "output_type": "stream",
     "text": [
      "Retrying (3/3) due to error: http status: 429, code:-1 - /v1/audio-features/?ids=6v3KW9xbzN5yKLt9YKDYA2:\n",
      " Max Retries, reason: too many 429 error responses\n"
     ]
    },
    {
     "name": "stderr",
     "output_type": "stream",
     "text": [
      "Max Retries reached\n"
     ]
    },
    {
     "name": "stdout",
     "output_type": "stream",
     "text": [
      "Retrying (1/3) due to error: http status: 429, code:-1 - /v1/audio-features/?ids=2H2ytI7ompfNmRkI2sq8Uk:\n",
      " Max Retries, reason: too many 429 error responses\n"
     ]
    },
    {
     "name": "stderr",
     "output_type": "stream",
     "text": [
      "Max Retries reached\n"
     ]
    },
    {
     "name": "stdout",
     "output_type": "stream",
     "text": [
      "Retrying (2/3) due to error: http status: 429, code:-1 - /v1/audio-features/?ids=2H2ytI7ompfNmRkI2sq8Uk:\n",
      " Max Retries, reason: too many 429 error responses\n"
     ]
    }
   ],
   "source": [
    "if __name__ == \"__main__\":\n",
    "\n",
    "\n",
    "    CLIENT_ID = \"a96a3af9660440769efb49b1785fd7b2\"\n",
    "    CLIENT_SECRET = \"2e50c0969ed44cd0a254ad301de00f50\"\n",
    "\n",
    "\n",
    "    auth_manager = SpotifyClientCredentials(\n",
    "        client_id=CLIENT_ID,\n",
    "        client_secret=CLIENT_SECRET\n",
    "    )\n",
    "\n",
    "    sp = spotipy.Spotify(auth_manager=auth_manager)\n",
    "\n",
    "    id1 = search_artist(sp, \"Taylor Swift\")\n",
    "    Gb = crawler(sp, id1, 100, strategy='BFS', out_filename=\"gB.graphml\") # 100 nodes/artists\n",
    "    print(\"Taylor Swift crawled BFS\")\n",
    "    Gd = crawler(sp, id1, 100, strategy='DFS', out_filename=\"gD.graphml\")\n",
    "    print(\"Taylor Swift crawled BFS\")\n",
    "\n",
    "    id2 = search_artist(sp, \"Pastel Ghost\")\n",
    "    Hb = crawler(sp, id2, 100, strategy='BFS', out_filename=\"hB.graphml\")\n",
    "    print(\"Pastel Ghost crawled BFS\")\n",
    "    \n",
    "    # Degree statistics\n",
    "    stats_gb = degree_statistics(Gb)\n",
    "    stats_gd = degree_statistics(Gd)\n",
    "\n",
    "    print(f\"gB degree stats: {stats_gb}\")\n",
    "    print(f\"gD degree stats: {stats_gd}\")\n",
    "    print(f\"hB degree stats: {degree_statistics(Hb)}\")\n",
    "    \n",
    "    # Track data\n",
    "    D = get_track_data(sp, [Gb, Gd], \"songs.csv\")\n",
    "    \n",
    "    num_songs = D['track_id'].nunique()\n",
    "    num_artists = D['artist_id'].nunique()\n",
    "    num_albums = D['album_id'].nunique()\n",
    "\n",
    "    print(f\"Artists: {num_artists}\")\n",
    "    print(f\"Albums: {num_albums}\")\n",
    "    print(f\"Songs: {num_songs}\")"
   ]
  }
 ],
 "metadata": {
  "kernelspec": {
   "display_name": "collegeEnv",
   "language": "python",
   "name": "python3"
  },
  "language_info": {
   "codemirror_mode": {
    "name": "ipython",
    "version": 3
   },
   "file_extension": ".py",
   "mimetype": "text/x-python",
   "name": "python",
   "nbconvert_exporter": "python",
   "pygments_lexer": "ipython3",
   "version": "3.10.13"
  }
 },
 "nbformat": 4,
 "nbformat_minor": 2
}
